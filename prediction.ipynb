{
 "cells": [
  {
   "cell_type": "code",
   "execution_count": 14,
   "id": "a75e7d4c",
   "metadata": {},
   "outputs": [],
   "source": [
    "# Import the libraries:\n",
    "import numpy as np\n",
    "import tensorflow as tf\n",
    "from tensorflow.keras.datasets import imdb\n",
    "from tensorflow.keras.preprocessing import sequence\n",
    "from tensorflow.keras.models import load_model"
   ]
  },
  {
   "cell_type": "code",
   "execution_count": 15,
   "id": "0e31a4e3",
   "metadata": {},
   "outputs": [],
   "source": [
    "# Load the imdb dataset:\n",
    "word_index = imdb.get_word_index()\n",
    "reverse_word_index = {value: key for key, value in word_index.items()}"
   ]
  },
  {
   "cell_type": "code",
   "execution_count": 16,
   "id": "b4faf793",
   "metadata": {},
   "outputs": [
    {
     "name": "stdout",
     "output_type": "stream",
     "text": [
      "Model: \"sequential_2\"\n",
      "_________________________________________________________________\n",
      " Layer (type)                Output Shape              Param #   \n",
      "=================================================================\n",
      " embedding_2 (Embedding)     (None, 500, 128)          1280000   \n",
      "                                                                 \n",
      " dropout (Dropout)           (None, 500, 128)          0         \n",
      "                                                                 \n",
      " simple_rnn_2 (SimpleRNN)    (None, 128)               32896     \n",
      "                                                                 \n",
      " dropout_1 (Dropout)         (None, 128)               0         \n",
      "                                                                 \n",
      " dense_2 (Dense)             (None, 1)                 129       \n",
      "                                                                 \n",
      "=================================================================\n",
      "Total params: 1313025 (5.01 MB)\n",
      "Trainable params: 1313025 (5.01 MB)\n",
      "Non-trainable params: 0 (0.00 Byte)\n",
      "_________________________________________________________________\n"
     ]
    }
   ],
   "source": [
    "model = load_model('simple_rnn_imdb.h5')\n",
    "model.summary()"
   ]
  },
  {
   "cell_type": "code",
   "execution_count": 17,
   "id": "7c88e9ae",
   "metadata": {},
   "outputs": [],
   "source": [
    "# Helper functions:\n",
    "def decode_review(encoded_review):\n",
    "    return ' '.join([reverse_word_index.get(i - 3, '?') for i in encoded_review])\n",
    "\n",
    "def preprocess_text(text):\n",
    "    words = text.lower().split()\n",
    "    encoded_review = [word_index.get(word, 2) + 3 for word in words]\n",
    "    padded_review = sequence.pad_sequences([encoded_review], maxlen=500)\n",
    "    return padded_review"
   ]
  },
  {
   "cell_type": "code",
   "execution_count": 18,
   "id": "36619a05",
   "metadata": {},
   "outputs": [],
   "source": [
    "# Prediction functions:\n",
    "def predict_sentiment(review):\n",
    "    preprocessed_input = preprocess_text(review)\n",
    "\n",
    "    prediction = model.predict(preprocessed_input)\n",
    "\n",
    "    sentiment = 'Positive' if prediction[0][0] > 0.5 else 'Negative'\n",
    "\n",
    "    return sentiment, prediction[0][0]"
   ]
  },
  {
   "cell_type": "code",
   "execution_count": 24,
   "id": "fbe92085",
   "metadata": {},
   "outputs": [
    {
     "name": "stdout",
     "output_type": "stream",
     "text": [
      "1/1 [==============================] - 0s 55ms/step\n",
      "Review: I absolutely loved the acting and the story was so engaging!\n",
      "Sentiment: Positive\n",
      "Prediction Score: 0.8160032033920288\n",
      "--------------------------------------------------\n",
      "1/1 [==============================] - 0s 46ms/step\n",
      "Review: The plot made no sense and the acting was worse.\n",
      "Sentiment: Negative\n",
      "Prediction Score: 0.3149893581867218\n",
      "--------------------------------------------------\n",
      "1/1 [==============================] - 0s 49ms/step\n",
      "Review: Great cinematography but the story lacked depth.\n",
      "Sentiment: Positive\n",
      "Prediction Score: 0.8489633798599243\n",
      "--------------------------------------------------\n",
      "1/1 [==============================] - 0s 44ms/step\n",
      "Review: None of the jokes landed and the story was full of clichés.\n",
      "Sentiment: Negative\n",
      "Prediction Score: 0.4405495226383209\n",
      "--------------------------------------------------\n",
      "1/1 [==============================] - 0s 46ms/step\n",
      "Review: One of the best movies I have seen this year, highly recommended!\n",
      "Sentiment: Positive\n",
      "Prediction Score: 0.9266183376312256\n",
      "--------------------------------------------------\n"
     ]
    }
   ],
   "source": [
    "# User input(example review):\n",
    "test_reviews = [\n",
    "    \"I absolutely loved the acting and the story was so engaging!\",\n",
    "    \"The plot made no sense and the acting was worse.\",\n",
    "    \"Great cinematography but the story lacked depth.\",\n",
    "    \"None of the jokes landed and the story was full of clichés.\",\n",
    "    \"One of the best movies I have seen this year, highly recommended!\"\n",
    "]\n",
    "\n",
    "for review in test_reviews:\n",
    "    sentiment, score = predict_sentiment(review)\n",
    "    print(f\"Review: {review}\")\n",
    "    print(f\"Sentiment: {sentiment}\")\n",
    "    print(f\"Prediction Score: {score}\")\n",
    "    print(\"-\" * 50)"
   ]
  },
  {
   "cell_type": "code",
   "execution_count": null,
   "id": "0bb65f18",
   "metadata": {},
   "outputs": [],
   "source": []
  }
 ],
 "metadata": {
  "kernelspec": {
   "display_name": "Python 3",
   "language": "python",
   "name": "python3"
  },
  "language_info": {
   "codemirror_mode": {
    "name": "ipython",
    "version": 3
   },
   "file_extension": ".py",
   "mimetype": "text/x-python",
   "name": "python",
   "nbconvert_exporter": "python",
   "pygments_lexer": "ipython3",
   "version": "3.11.0"
  }
 },
 "nbformat": 4,
 "nbformat_minor": 5
}
